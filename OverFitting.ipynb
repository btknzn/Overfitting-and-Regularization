{
 "cells": [
  {
   "cell_type": "markdown",
   "metadata": {},
   "source": [
    "# Overfitting and Regularization"
   ]
  },
  {
   "cell_type": "markdown",
   "metadata": {},
   "source": [
    "The fundamental issue in machine learning is the tension between optimization and generalization. \"Optimization\" refers to the process of adjusting a model to get the best performance possible on the training data, while \"generalization\" refers to how well the trained model would perform on data it has never seen before. The goal of the game is to get good generalization, of course, but you do not control generalization; you can only adjust the model based on its training data.\n",
    "\n",
    "At the beginning of training, optimization and generalization are correlated: the lower your loss on training data, the lower your loss on test data. While this is happening, your model is said to be under-fit: there is still progress to be made; the network hasn't yet modeled all relevant patterns in the training data. But after a certain number of iterations on the training data, generalization stops improving, validation metrics stall then start degrading: the model is then starting to over-fit, i.e. is it starting to learn patterns that are specific to the training data but that are misleading or irrelevant when it comes to new data.\n",
    "\n",
    "To prevent a model from learning misleading or irrelevant patterns found in the training data, the best solution is of course to get more training data. A model trained on more data will naturally generalize better. When that is no longer possible, the next best solution is to modulate the quantity of information that your model is allowed to store, or to add constraints on what information it is allowed to store. If a network can only afford to memorize a small number of patterns, the optimization process will force it to focus on the most prominent patterns, which have a better chance of generalizing well.\n",
    "\n",
    "The processing of fighting overfitting in this way is called regularization. Let's review some of the most common regularization techniques, and let's apply them in practice to improve our movie classification model from the previous chapter.\n",
    "\n",
    "In this Notebook we will be using the IMDB Dataset to explore some of the possible techniques to deal with overfitting."
   ]
  },
  {
   "cell_type": "markdown",
   "metadata": {},
   "source": [
    "As first thing, we import Keras package:"
   ]
  },
  {
   "cell_type": "markdown",
   "metadata": {},
   "source": [
    "** Import Keras and check the version.**"
   ]
  },
  {
   "cell_type": "code",
   "execution_count": 1,
   "metadata": {},
   "outputs": [
    {
     "data": {
      "text/plain": [
       "'2.4.3'"
      ]
     },
     "execution_count": 1,
     "metadata": {},
     "output_type": "execute_result"
    }
   ],
   "source": [
    "import keras\n",
    "keras.__version__"
   ]
  },
  {
   "cell_type": "markdown",
   "metadata": {},
   "source": [
    "## Get the Data"
   ]
  },
  {
   "cell_type": "code",
   "execution_count": 2,
   "metadata": {},
   "outputs": [
    {
     "name": "stderr",
     "output_type": "stream",
     "text": [
      "<__array_function__ internals>:5: VisibleDeprecationWarning: Creating an ndarray from ragged nested sequences (which is a list-or-tuple of lists-or-tuples-or ndarrays with different lengths or shapes) is deprecated. If you meant to do this, you must specify 'dtype=object' when creating the ndarray\n",
      "/Users/batukaanozen/opt/anaconda3/lib/python3.8/site-packages/tensorflow/python/keras/datasets/imdb.py:159: VisibleDeprecationWarning: Creating an ndarray from ragged nested sequences (which is a list-or-tuple of lists-or-tuples-or ndarrays with different lengths or shapes) is deprecated. If you meant to do this, you must specify 'dtype=object' when creating the ndarray\n",
      "  x_train, y_train = np.array(xs[:idx]), np.array(labels[:idx])\n",
      "/Users/batukaanozen/opt/anaconda3/lib/python3.8/site-packages/tensorflow/python/keras/datasets/imdb.py:160: VisibleDeprecationWarning: Creating an ndarray from ragged nested sequences (which is a list-or-tuple of lists-or-tuples-or ndarrays with different lengths or shapes) is deprecated. If you meant to do this, you must specify 'dtype=object' when creating the ndarray\n",
      "  x_test, y_test = np.array(xs[idx:]), np.array(labels[idx:])\n"
     ]
    }
   ],
   "source": [
    "from keras.datasets import imdb\n",
    "import numpy as np\n",
    "\n",
    "(train_data, train_labels), (test_data, test_labels) = imdb.load_data(num_words=10000)\n",
    "\n",
    "def vectorize_sequences(sequences, dimension=10000):\n",
    "    # Create an all-zero matrix of shape (len(sequences), dimension)\n",
    "    results = np.zeros((len(sequences), dimension))\n",
    "    for i, sequence in enumerate(sequences):\n",
    "        results[i, sequence] = 1.  # set specific indices of results[i] to 1s\n",
    "    return results\n",
    "\n",
    "# Our vectorized training data\n",
    "x_train = vectorize_sequences(train_data)\n",
    "# Our vectorized test data\n",
    "x_test = vectorize_sequences(test_data)\n",
    "# Our vectorized labels\n",
    "y_train = np.asarray(train_labels).astype('float32')\n",
    "y_test = np.asarray(test_labels).astype('float32')"
   ]
  },
  {
   "cell_type": "markdown",
   "metadata": {},
   "source": [
    "## Overfitting\n",
    "### Reducing the Network's size"
   ]
  },
  {
   "cell_type": "markdown",
   "metadata": {},
   "source": [
    "The simplest way to prevent overfitting is to reduce the size of the model, i.e. the number of learnable parameters in the model (which is determined by the number of layers and the number of units per layer). In deep learning, the number of learnable parameters in a model is often referred to as the model's \"capacity\". Intuitively, a model with more parameters will have more \"memorization capacity\" and therefore will be able to easily learn a perfect dictionary-like mapping between training samples and their targets, a mapping without any generalization power. For instance, a model with 500,000 binary parameters could easily be made to learn the class of every digits in the MNIST training set: we would only need 10 binary parameters for each of the 50,000 digits. Such a model would be useless for classifying new digit samples. Always keep this in mind: deep learning models tend to be good at fitting to the training data, but the real challenge is generalization, not fitting.\n",
    "\n",
    "On the other hand, if the network has limited memorization resources, it will not be able to learn this mapping as easily, and thus, in order to minimize its loss, it will have to resort to learning compressed representations that have predictive power regarding the targets -- precisely the type of representations that we are interested in. At the same time, keep in mind that you should be using models that have enough parameters that they won't be underfitting: your model shouldn't be starved for memorization resources. There is a compromise to be found between \"too much capacity\" and \"not enough capacity\".\n",
    "\n",
    "Unfortunately, there is no magical formula to determine what the right number of layers is, or what the right size for each layer is. You will have to evaluate an array of different architectures (on your validation set, not on your test set, of course) in order to find the right model size for your data. The general workflow to find an appropriate model size is to start with relatively few layers and parameters, and start increasing the size of the layers or adding new layers until you see diminishing returns with regard to the validation loss.\n",
    "\n",
    "Let's try this on our movie review classification network. Our original network was as such:"
   ]
  },
  {
   "cell_type": "markdown",
   "metadata": {},
   "source": [
    "** Create the following network (call it `original_model`). **"
   ]
  },
  {
   "cell_type": "markdown",
   "metadata": {},
   "source": [
    "- Dense layer with 16 hidden units and an activation function;\n",
    "- Dense layer with 16 hidden units and an activation function;\n",
    "- Dense layer output with an activation function;"
   ]
  },
  {
   "cell_type": "code",
   "execution_count": 4,
   "metadata": {},
   "outputs": [],
   "source": [
    "from keras import models\n",
    "from keras import layers\n",
    "\n",
    "original_model = models.Sequential()\n",
    "original_model.add(layers.Dense(16, activation='relu', input_shape=(10000,)))\n",
    "original_model.add(layers.Dense(16, activation='relu'))\n",
    "original_model.add(layers.Dense(1, activation='sigmoid'))"
   ]
  },
  {
   "cell_type": "markdown",
   "metadata": {},
   "source": [
    "**Compile the model.**"
   ]
  },
  {
   "cell_type": "code",
   "execution_count": 6,
   "metadata": {},
   "outputs": [],
   "source": [
    "original_model.compile(optimizer='rmsprop',\n",
    "                      loss = 'binary_crossentropy',\n",
    "                      metrics =['acc'])"
   ]
  },
  {
   "cell_type": "markdown",
   "metadata": {},
   "source": [
    "** Now replace it with a smaller network (call it `smaller_model`), with less hidden units instead of 16 and compile it. Be sure to use the same optimizer and loss function of the `original_model`.**"
   ]
  },
  {
   "cell_type": "code",
   "execution_count": 8,
   "metadata": {},
   "outputs": [],
   "source": [
    "smaller_model = models.Sequential()\n",
    "smaller_model.add(layers.Dense(4, activation='relu', input_shape=(10000,)))\n",
    "smaller_model.add(layers.Dense(4, activation='relu'))\n",
    "smaller_model.add(layers.Dense(1, activation='sigmoid'))\n",
    "\n",
    "smaller_model.compile(optimizer='rmsprop',\n",
    "                      loss='binary_crossentropy',\n",
    "                      metrics=['acc'])"
   ]
  },
  {
   "cell_type": "markdown",
   "metadata": {},
   "source": [
    "** Fit the original model with 20 epochs and batch size 512. Use x_test and y_test for validation data.**"
   ]
  },
  {
   "cell_type": "code",
   "execution_count": 12,
   "metadata": {},
   "outputs": [
    {
     "name": "stdout",
     "output_type": "stream",
     "text": [
      "Epoch 1/20\n",
      "49/49 [==============================] - 3s 55ms/step - loss: 0.6263 - acc: 0.6468 - val_loss: 0.5279 - val_acc: 0.7570\n",
      "Epoch 2/20\n",
      "49/49 [==============================] - 1s 13ms/step - loss: 0.4871 - acc: 0.8435 - val_loss: 0.4825 - val_acc: 0.8458\n",
      "Epoch 3/20\n",
      "49/49 [==============================] - 1s 13ms/step - loss: 0.4399 - acc: 0.8952 - val_loss: 0.4623 - val_acc: 0.8686\n",
      "Epoch 4/20\n",
      "49/49 [==============================] - 1s 13ms/step - loss: 0.4056 - acc: 0.9168 - val_loss: 0.4523 - val_acc: 0.8729\n",
      "Epoch 5/20\n",
      "49/49 [==============================] - 1s 12ms/step - loss: 0.3811 - acc: 0.9336 - val_loss: 0.4541 - val_acc: 0.8634\n",
      "Epoch 6/20\n",
      "49/49 [==============================] - 1s 13ms/step - loss: 0.3616 - acc: 0.9420 - val_loss: 0.4541 - val_acc: 0.8625\n",
      "Epoch 7/20\n",
      "49/49 [==============================] - 1s 12ms/step - loss: 0.3457 - acc: 0.9474 - val_loss: 0.4393 - val_acc: 0.8732\n",
      "Epoch 8/20\n",
      "49/49 [==============================] - 1s 12ms/step - loss: 0.3254 - acc: 0.9555 - val_loss: 0.4494 - val_acc: 0.8686\n",
      "Epoch 9/20\n",
      "49/49 [==============================] - 1s 12ms/step - loss: 0.3110 - acc: 0.9600 - val_loss: 0.4395 - val_acc: 0.8712\n",
      "Epoch 10/20\n",
      "49/49 [==============================] - 1s 12ms/step - loss: 0.3002 - acc: 0.9633 - val_loss: 0.4525 - val_acc: 0.8673\n",
      "Epoch 11/20\n",
      "49/49 [==============================] - 1s 12ms/step - loss: 0.2861 - acc: 0.9651 - val_loss: 0.4581 - val_acc: 0.8651\n",
      "Epoch 12/20\n",
      "49/49 [==============================] - 1s 12ms/step - loss: 0.2746 - acc: 0.9686 - val_loss: 0.4928 - val_acc: 0.8581\n",
      "Epoch 13/20\n",
      "49/49 [==============================] - 1s 12ms/step - loss: 0.2628 - acc: 0.9684 - val_loss: 0.5022 - val_acc: 0.8586\n",
      "Epoch 14/20\n",
      "49/49 [==============================] - 1s 14ms/step - loss: 0.2537 - acc: 0.9705 - val_loss: 0.5014 - val_acc: 0.8583\n",
      "Epoch 15/20\n",
      "49/49 [==============================] - 1s 13ms/step - loss: 0.2419 - acc: 0.9735 - val_loss: 0.5188 - val_acc: 0.8571\n",
      "Epoch 16/20\n",
      "49/49 [==============================] - 1s 13ms/step - loss: 0.2350 - acc: 0.9750 - val_loss: 0.4633 - val_acc: 0.8585\n",
      "Epoch 17/20\n",
      "49/49 [==============================] - 1s 13ms/step - loss: 0.2254 - acc: 0.9756 - val_loss: 0.5134 - val_acc: 0.8579\n",
      "Epoch 18/20\n",
      "49/49 [==============================] - 1s 14ms/step - loss: 0.2132 - acc: 0.9785 - val_loss: 0.5815 - val_acc: 0.8525\n",
      "Epoch 19/20\n",
      "49/49 [==============================] - 1s 14ms/step - loss: 0.2040 - acc: 0.9795 - val_loss: 0.5367 - val_acc: 0.8567\n",
      "Epoch 20/20\n",
      "49/49 [==============================] - 1s 14ms/step - loss: 0.1991 - acc: 0.9790 - val_loss: 0.5605 - val_acc: 0.8557\n"
     ]
    }
   ],
   "source": [
    "smaller_model_hist = smaller_model.fit(x_train, y_train,\n",
    "                                       epochs=20,\n",
    "                                       batch_size=512,\n",
    "                                       validation_data=(x_test, y_test))"
   ]
  },
  {
   "cell_type": "markdown",
   "metadata": {},
   "source": [
    "** Fit the smaller model with 20 epochs and batch size 512. Use x_test and y_test for validation data.**"
   ]
  },
  {
   "cell_type": "code",
   "execution_count": 11,
   "metadata": {},
   "outputs": [
    {
     "name": "stdout",
     "output_type": "stream",
     "text": [
      "Epoch 1/20\n",
      "49/49 [==============================] - 4s 77ms/step - loss: 0.5416 - acc: 0.7617 - val_loss: 0.3377 - val_acc: 0.8800\n",
      "Epoch 2/20\n",
      "49/49 [==============================] - 1s 14ms/step - loss: 0.2760 - acc: 0.9039 - val_loss: 0.2842 - val_acc: 0.8883\n",
      "Epoch 3/20\n",
      "49/49 [==============================] - 1s 14ms/step - loss: 0.2009 - acc: 0.9301 - val_loss: 0.3018 - val_acc: 0.8784\n",
      "Epoch 4/20\n",
      "49/49 [==============================] - 1s 15ms/step - loss: 0.1596 - acc: 0.9443 - val_loss: 0.3000 - val_acc: 0.8810\n",
      "Epoch 5/20\n",
      "49/49 [==============================] - 1s 14ms/step - loss: 0.1415 - acc: 0.9510 - val_loss: 0.3117 - val_acc: 0.8808\n",
      "Epoch 6/20\n",
      "49/49 [==============================] - 1s 14ms/step - loss: 0.1199 - acc: 0.9594 - val_loss: 0.3374 - val_acc: 0.8750\n",
      "Epoch 7/20\n",
      "49/49 [==============================] - 1s 14ms/step - loss: 0.1066 - acc: 0.9642 - val_loss: 0.3551 - val_acc: 0.8734\n",
      "Epoch 8/20\n",
      "49/49 [==============================] - 1s 15ms/step - loss: 0.0922 - acc: 0.9704 - val_loss: 0.4029 - val_acc: 0.8649\n",
      "Epoch 9/20\n",
      "49/49 [==============================] - 1s 15ms/step - loss: 0.0815 - acc: 0.9743 - val_loss: 0.4201 - val_acc: 0.8634\n",
      "Epoch 10/20\n",
      "49/49 [==============================] - 1s 16ms/step - loss: 0.0722 - acc: 0.9785 - val_loss: 0.4447 - val_acc: 0.8610\n",
      "Epoch 11/20\n",
      "49/49 [==============================] - 1s 15ms/step - loss: 0.0610 - acc: 0.9817 - val_loss: 0.4741 - val_acc: 0.8594\n",
      "Epoch 12/20\n",
      "49/49 [==============================] - 1s 15ms/step - loss: 0.0505 - acc: 0.9864 - val_loss: 0.5218 - val_acc: 0.8590\n",
      "Epoch 13/20\n",
      "49/49 [==============================] - 1s 14ms/step - loss: 0.0458 - acc: 0.9874 - val_loss: 0.5338 - val_acc: 0.8590\n",
      "Epoch 14/20\n",
      "49/49 [==============================] - 1s 14ms/step - loss: 0.0376 - acc: 0.9901 - val_loss: 0.5753 - val_acc: 0.8567\n",
      "Epoch 15/20\n",
      "49/49 [==============================] - 1s 16ms/step - loss: 0.0334 - acc: 0.9906 - val_loss: 0.6080 - val_acc: 0.8546\n",
      "Epoch 16/20\n",
      "49/49 [==============================] - 1s 14ms/step - loss: 0.0264 - acc: 0.9939 - val_loss: 0.6583 - val_acc: 0.8501\n",
      "Epoch 17/20\n",
      "49/49 [==============================] - 1s 14ms/step - loss: 0.0214 - acc: 0.9953 - val_loss: 0.6781 - val_acc: 0.8533\n",
      "Epoch 18/20\n",
      "49/49 [==============================] - 1s 15ms/step - loss: 0.0192 - acc: 0.9955 - val_loss: 0.7508 - val_acc: 0.8497\n",
      "Epoch 19/20\n",
      "49/49 [==============================] - 1s 14ms/step - loss: 0.0188 - acc: 0.9960 - val_loss: 0.8195 - val_acc: 0.8380\n",
      "Epoch 20/20\n",
      "49/49 [==============================] - 1s 15ms/step - loss: 0.0150 - acc: 0.9970 - val_loss: 0.7946 - val_acc: 0.8482\n"
     ]
    }
   ],
   "source": [
    "original_hist = original_model.fit(x_train, y_train,\n",
    "                                   epochs=20,\n",
    "                                   batch_size=512,\n",
    "                                   validation_data=(x_test, y_test))"
   ]
  },
  {
   "cell_type": "markdown",
   "metadata": {},
   "source": [
    "** Compare the smaller model with the original one. Fill in the #TO DOs. **"
   ]
  },
  {
   "cell_type": "code",
   "execution_count": 13,
   "metadata": {},
   "outputs": [],
   "source": [
    "epochs = range(1, 21)\n",
    "original_val_loss = original_hist.history['val_loss']\n",
    "smaller_model_val_loss = smaller_model_hist.history['val_loss']"
   ]
  },
  {
   "cell_type": "code",
   "execution_count": 14,
   "metadata": {},
   "outputs": [
    {
     "data": {
      "image/png": "[encoded data removed]",
      "text/plain": [
       "<Figure size 432x288 with 1 Axes>"
      ]
     },
     "metadata": {
      "needs_background": "light"
     },
     "output_type": "display_data"
    }
   ],
   "source": [
    "import matplotlib.pyplot as plt\n",
    "\n",
    "# b+ is for \"blue cross\"\n",
    "plt.plot(epochs, original_val_loss, 'b+', label='Original model') \n",
    "# \"bo\" is for \"blue dot\"\n",
    "plt.plot(epochs, smaller_model_val_loss, 'bo', label='Smaller model') \n",
    "plt.xlabel('Epochs')\n",
    "plt.ylabel('Validation loss')\n",
    "plt.legend()\n",
    "\n",
    "plt.show()"
   ]
  },
  {
   "cell_type": "markdown",
   "metadata": {},
   "source": [
    "Here's a comparison of the validation losses of the original network and the smaller network. The dots are the validation loss values of the smaller network, and the crosses are the initial network."
   ]
  },
  {
   "cell_type": "markdown",
   "metadata": {},
   "source": [
    "** Considerations: what can you conclude from these results? Which of the two network starts to overfitting later? How are their performances? **"
   ]
  },
  {
   "cell_type": "markdown",
   "metadata": {},
   "source": []
  },
  {
   "cell_type": "markdown",
   "metadata": {},
   "source": [
    "Now, let's add to this benchmark a network that has much more capacity (far more than the problem would warrant)."
   ]
  },
  {
   "cell_type": "markdown",
   "metadata": {},
   "source": [
    "** Create a bigger network with moe than 16 hidden units (call it `bigger_model`) and compile it. **"
   ]
  },
  {
   "cell_type": "code",
   "execution_count": 15,
   "metadata": {},
   "outputs": [],
   "source": [
    "bigger_model = models.Sequential()\n",
    "bigger_model.add(layers.Dense(512, activation='relu', input_shape=(10000,)))\n",
    "bigger_model.add(layers.Dense(512, activation='relu'))\n",
    "bigger_model.add(layers.Dense(1, activation='sigmoid'))\n",
    "\n",
    "bigger_model.compile(optimizer='rmsprop',\n",
    "                     loss='binary_crossentropy',\n",
    "                     metrics=['acc'])"
   ]
  },
  {
   "cell_type": "markdown",
   "metadata": {},
   "source": [
    "** Fit the model with 20 epochs and batch of size 512.**"
   ]
  },
  {
   "cell_type": "code",
   "execution_count": 16,
   "metadata": {},
   "outputs": [
    {
     "name": "stdout",
     "output_type": "stream",
     "text": [
      "Epoch 1/20\n",
      "49/49 [==============================] - 6s 105ms/step - loss: 0.6191 - acc: 0.7103 - val_loss: 0.2921 - val_acc: 0.8865\n",
      "Epoch 2/20\n",
      "49/49 [==============================] - 4s 85ms/step - loss: 0.2240 - acc: 0.9171 - val_loss: 0.2830 - val_acc: 0.8805\n",
      "Epoch 3/20\n",
      "49/49 [==============================] - 4s 89ms/step - loss: 0.1272 - acc: 0.9534 - val_loss: 0.3992 - val_acc: 0.8441\n",
      "Epoch 4/20\n",
      "49/49 [==============================] - 4s 86ms/step - loss: 0.0575 - acc: 0.9825 - val_loss: 0.4118 - val_acc: 0.8830\n",
      "Epoch 5/20\n",
      "49/49 [==============================] - 4s 82ms/step - loss: 0.0382 - acc: 0.9922 - val_loss: 0.4615 - val_acc: 0.8820\n",
      "Epoch 6/20\n",
      "49/49 [==============================] - 4s 82ms/step - loss: 0.0020 - acc: 0.9998 - val_loss: 0.6253 - val_acc: 0.8804\n",
      "Epoch 7/20\n",
      "49/49 [==============================] - 4s 85ms/step - loss: 0.0040 - acc: 0.9996 - val_loss: 2.0334 - val_acc: 0.7545\n",
      "Epoch 8/20\n",
      "49/49 [==============================] - 4s 85ms/step - loss: 0.0285 - acc: 0.9938 - val_loss: 0.7324 - val_acc: 0.8786\n",
      "Epoch 9/20\n",
      "49/49 [==============================] - 4s 87ms/step - loss: 0.0030 - acc: 0.9997 - val_loss: 3.1540 - val_acc: 0.7162\n",
      "Epoch 10/20\n",
      "49/49 [==============================] - 4s 87ms/step - loss: 0.1005 - acc: 0.9865 - val_loss: 0.7543 - val_acc: 0.8767\n",
      "Epoch 11/20\n",
      "49/49 [==============================] - 4s 90ms/step - loss: 5.4710e-05 - acc: 1.0000 - val_loss: 0.8910 - val_acc: 0.8776\n",
      "Epoch 12/20\n",
      "49/49 [==============================] - 4s 88ms/step - loss: 9.0608e-06 - acc: 1.0000 - val_loss: 1.0402 - val_acc: 0.8790\n",
      "Epoch 13/20\n",
      "49/49 [==============================] - 4s 88ms/step - loss: 1.3941e-06 - acc: 1.0000 - val_loss: 3.2966 - val_acc: 0.7536\n",
      "Epoch 14/20\n",
      "49/49 [==============================] - 4s 88ms/step - loss: 0.5813 - acc: 0.9579 - val_loss: 0.9015 - val_acc: 0.8792\n",
      "Epoch 15/20\n",
      "49/49 [==============================] - 4s 88ms/step - loss: 5.3306e-06 - acc: 1.0000 - val_loss: 0.9338 - val_acc: 0.8795\n",
      "Epoch 16/20\n",
      "49/49 [==============================] - 4s 88ms/step - loss: 2.5140e-06 - acc: 1.0000 - val_loss: 1.0019 - val_acc: 0.8803\n",
      "Epoch 17/20\n",
      "49/49 [==============================] - 4s 87ms/step - loss: 9.7860e-07 - acc: 1.0000 - val_loss: 1.1335 - val_acc: 0.8799\n",
      "Epoch 18/20\n",
      "49/49 [==============================] - 5s 97ms/step - loss: 2.2969e-07 - acc: 1.0000 - val_loss: 1.2559 - val_acc: 0.8797\n",
      "Epoch 19/20\n",
      "49/49 [==============================] - 5s 109ms/step - loss: 6.3599e-08 - acc: 1.0000 - val_loss: 1.3577 - val_acc: 0.8794\n",
      "Epoch 20/20\n",
      "49/49 [==============================] - 5s 101ms/step - loss: 2.3382e-08 - acc: 1.0000 - val_loss: 1.4140 - val_acc: 0.8796\n"
     ]
    }
   ],
   "source": [
    "bigger_model_hist = bigger_model.fit(x_train, y_train,\n",
    "                                     epochs=20,\n",
    "                                     batch_size=512,\n",
    "                                     validation_data=(x_test, y_test))"
   ]
  },
  {
   "cell_type": "markdown",
   "metadata": {},
   "source": [
    "Let's see how the bigger network fares compared to the reference one. The dots are the validation loss values of the bigger network, and the crosses are the initial network."
   ]
  },
  {
   "cell_type": "markdown",
   "metadata": {},
   "source": [
    "** Compare the bigger model with the original one. Fill in the #TO DOs. **"
   ]
  },
  {
   "cell_type": "code",
   "execution_count": 17,
   "metadata": {},
   "outputs": [
    {
     "data": {
      "image/png": "[encoded data removed]",
      "text/plain": [
       "<Figure size 432x288 with 1 Axes>"
      ]
     },
     "metadata": {
      "needs_background": "light"
     },
     "output_type": "display_data"
    }
   ],
   "source": [
    "original_train_loss = original_hist.history['loss'] #TO DO: take from the history dictionary of the original model the training loss\n",
    "bigger_model_train_loss = bigger_model_hist.history['loss'] #TO DO: take from the history dictionary of the bigger model the training loss\n",
    "\n",
    "plt.plot(epochs, original_train_loss, 'b+', label='Original model') #TO DO: use the original model training loss\n",
    "plt.plot(epochs, bigger_model_train_loss, 'bo', label='Bigger model') #TO DO: use the smaller model training loss\n",
    "plt.xlabel('Epochs')\n",
    "plt.ylabel('Training loss')\n",
    "plt.legend()\n",
    "\n",
    "plt.show()"
   ]
  },
  {
   "cell_type": "markdown",
   "metadata": {},
   "source": [
    "** Considerations: what can you conclude from these results? Which of the two network starts to overfitting later? How are their performances? **"
   ]
  },
  {
   "cell_type": "markdown",
   "metadata": {},
   "source": []
  },
  {
   "cell_type": "markdown",
   "metadata": {},
   "source": [
    "** Compare the training loss of the bigger model and of the original one. Fill in the #TO DOs.**"
   ]
  },
  {
   "cell_type": "markdown",
   "metadata": {},
   "source": [
    "** Considerations: what can you conclude from these results? How are their performances? **"
   ]
  },
  {
   "cell_type": "markdown",
   "metadata": {},
   "source": []
  },
  {
   "cell_type": "markdown",
   "metadata": {},
   "source": [
    "## Adding weight regularization\n",
    "Given some training data and a network architecture, there are multiple sets of weights values (multiple models) that could explain the data, and simpler models are less likely to overfit than complex ones.\n",
    "\n",
    "A \"simple model\" in this context is a model where the distribution of parameter values has less entropy (or a model with fewer parameters altogether, as we saw in the section above). Thus a common way to mitigate overfitting is to put constraints on the complexity of a network by forcing its weights to only take small values, which makes the distribution of weight values more \"regular\". This is called \"weight regularization\", and it is done by adding to the loss function of the network a cost associated with having large weights. This cost comes in two ways:\n",
    "\n",
    "- L1 regularization, where the cost added is proportional to the absolute value of the weights coefficients (i.e. to what is called the \"L1 norm\" of the weights).\n",
    "- L2 regularization, where the cost added is proportional to the square of the value of the weights coefficients (i.e. to what is called the \"L2 norm\" of the weights). \n",
    "\n",
    "In Keras, weight regularization is added by passing weight regularizer instances to layers as keyword arguments. Let's add L2 weight regularization to our movie review classification network."
   ]
  },
  {
   "cell_type": "markdown",
   "metadata": {},
   "source": [
    "** Consider your original network and add L2 regularizer and try out some regularization coefficient. **\n",
    "\n",
    "Example: L2 with 0.001 means that every coefficient in the weight matrix of the layer will add 0.001 * weight_coefficient_value to the total loss of the network. Note that because this penalty is only added at training time, the loss for this network will be much higher at training than at test time."
   ]
  },
  {
   "cell_type": "code",
   "execution_count": 19,
   "metadata": {},
   "outputs": [],
   "source": [
    "from keras import regularizers\n",
    "\n",
    "l2_model = models.Sequential()\n",
    "l2_model.add(layers.Dense(16, kernel_regularizer=regularizers.l2(0.001),\n",
    "                          activation='relu', input_shape=(10000,)))\n",
    "l2_model.add(layers.Dense(16, kernel_regularizer=regularizers.l2(0.001),\n",
    "                          activation='relu'))\n",
    "l2_model.add(layers.Dense(1, activation='sigmoid'))"
   ]
  },
  {
   "cell_type": "markdown",
   "metadata": {},
   "source": [
    "** Compile the network. **"
   ]
  },
  {
   "cell_type": "code",
   "execution_count": 20,
   "metadata": {},
   "outputs": [],
   "source": [
    "l2_model.compile(optimizer='rmsprop',\n",
    "                 loss='binary_crossentropy',\n",
    "                 metrics=['acc'])"
   ]
  },
  {
   "cell_type": "markdown",
   "metadata": {},
   "source": [
    "** Fit the model and check which impact your L2 regularizer has.**"
   ]
  },
  {
   "cell_type": "code",
   "execution_count": 21,
   "metadata": {},
   "outputs": [
    {
     "name": "stdout",
     "output_type": "stream",
     "text": [
      "Epoch 1/20\n",
      "49/49 [==============================] - 4s 71ms/step - loss: 0.5774 - acc: 0.7484 - val_loss: 0.3850 - val_acc: 0.8754\n",
      "Epoch 2/20\n",
      "49/49 [==============================] - 1s 14ms/step - loss: 0.3246 - acc: 0.9075 - val_loss: 0.3354 - val_acc: 0.8888\n",
      "Epoch 3/20\n",
      "49/49 [==============================] - 1s 14ms/step - loss: 0.2619 - acc: 0.9292 - val_loss: 0.3380 - val_acc: 0.8851\n",
      "Epoch 4/20\n",
      "49/49 [==============================] - 1s 13ms/step - loss: 0.2428 - acc: 0.9355 - val_loss: 0.3389 - val_acc: 0.8852\n",
      "Epoch 5/20\n",
      "49/49 [==============================] - 1s 14ms/step - loss: 0.2268 - acc: 0.9398 - val_loss: 0.3547 - val_acc: 0.8789\n",
      "Epoch 6/20\n",
      "49/49 [==============================] - 1s 13ms/step - loss: 0.2207 - acc: 0.9424 - val_loss: 0.3542 - val_acc: 0.8794\n",
      "Epoch 7/20\n",
      "49/49 [==============================] - 1s 14ms/step - loss: 0.2153 - acc: 0.9440 - val_loss: 0.3562 - val_acc: 0.8792\n",
      "Epoch 8/20\n",
      "49/49 [==============================] - 1s 13ms/step - loss: 0.2050 - acc: 0.9510 - val_loss: 0.3631 - val_acc: 0.8795\n",
      "Epoch 9/20\n",
      "49/49 [==============================] - 1s 13ms/step - loss: 0.2012 - acc: 0.9497 - val_loss: 0.3685 - val_acc: 0.8780\n",
      "Epoch 10/20\n",
      "49/49 [==============================] - 1s 13ms/step - loss: 0.1944 - acc: 0.9537 - val_loss: 0.4338 - val_acc: 0.8594\n",
      "Epoch 11/20\n",
      "49/49 [==============================] - 1s 14ms/step - loss: 0.1982 - acc: 0.9518 - val_loss: 0.3884 - val_acc: 0.8727\n",
      "Epoch 12/20\n",
      "49/49 [==============================] - 1s 14ms/step - loss: 0.1908 - acc: 0.9518 - val_loss: 0.3914 - val_acc: 0.8730\n",
      "Epoch 13/20\n",
      "49/49 [==============================] - 1s 15ms/step - loss: 0.1824 - acc: 0.9582 - val_loss: 0.4026 - val_acc: 0.8702\n",
      "Epoch 14/20\n",
      "49/49 [==============================] - 1s 14ms/step - loss: 0.1776 - acc: 0.9610 - val_loss: 0.4199 - val_acc: 0.8648\n",
      "Epoch 15/20\n",
      "49/49 [==============================] - 1s 14ms/step - loss: 0.1858 - acc: 0.9560 - val_loss: 0.4182 - val_acc: 0.8685\n",
      "Epoch 16/20\n",
      "49/49 [==============================] - 1s 13ms/step - loss: 0.1762 - acc: 0.9590 - val_loss: 0.4097 - val_acc: 0.8710\n",
      "Epoch 17/20\n",
      "49/49 [==============================] - 1s 13ms/step - loss: 0.1781 - acc: 0.9589 - val_loss: 0.4083 - val_acc: 0.8721\n",
      "Epoch 18/20\n",
      "49/49 [==============================] - 1s 13ms/step - loss: 0.1666 - acc: 0.9641 - val_loss: 0.4266 - val_acc: 0.8660\n",
      "Epoch 19/20\n",
      "49/49 [==============================] - 1s 13ms/step - loss: 0.1694 - acc: 0.9617 - val_loss: 0.4192 - val_acc: 0.8707\n",
      "Epoch 20/20\n",
      "49/49 [==============================] - 1s 13ms/step - loss: 0.1629 - acc: 0.9657 - val_loss: 0.4233 - val_acc: 0.8694\n"
     ]
    }
   ],
   "source": [
    "l2_model_hist = l2_model.fit(x_train, y_train,\n",
    "                             epochs=20,\n",
    "                             batch_size=512,\n",
    "                             validation_data=(x_test, y_test))"
   ]
  },
  {
   "cell_type": "markdown",
   "metadata": {},
   "source": [
    "** Fill in the #TO DOs to see your results in the plot. **"
   ]
  },
  {
   "cell_type": "code",
   "execution_count": 22,
   "metadata": {},
   "outputs": [
    {
     "data": {
      "image/png": "[encoded data removed]",
      "text/plain": [
       "<Figure size 432x288 with 1 Axes>"
      ]
     },
     "metadata": {
      "needs_background": "light"
     },
     "output_type": "display_data"
    }
   ],
   "source": [
    "l2_model_val_loss = l2_model_hist.history['val_loss'] #TO DO: take from the take from the history dictionary of the regularized model the validation loss\n",
    "\n",
    "plt.plot(epochs, original_val_loss, 'b+', label='Original model') #TO DO: use the original model validation loss\n",
    "plt.plot(epochs, l2_model_val_loss, 'bo', label='L2-regularized model') #TO DO: use the regularized model validation loss\n",
    "plt.xlabel('Epochs')\n",
    "plt.ylabel('Validation loss')\n",
    "plt.legend()\n",
    "\n",
    "plt.show()"
   ]
  },
  {
   "cell_type": "markdown",
   "metadata": {},
   "source": [
    "**Considerations: what can you conclude from the plot? What about the overfitting? **"
   ]
  },
  {
   "cell_type": "markdown",
   "metadata": {},
   "source": []
  },
  {
   "cell_type": "markdown",
   "metadata": {},
   "source": [
    "As alternatives to L2 regularization, you could use one of the following Keras weight regularizers.\n",
    "\n",
    "(NOTE: do not run the above cell, it is just an example.)"
   ]
  },
  {
   "cell_type": "code",
   "execution_count": 23,
   "metadata": {},
   "outputs": [
    {
     "data": {
      "text/plain": [
       "<tensorflow.python.keras.regularizers.L1L2 at 0x7fcb1a798bb0>"
      ]
     },
     "execution_count": 23,
     "metadata": {},
     "output_type": "execute_result"
    }
   ],
   "source": [
    "from keras import regularizers\n",
    "\n",
    "# L1 regularization\n",
    "regularizers.l1(0.001)\n",
    "\n",
    "# L1 and L2 regularization at the same time\n",
    "regularizers.l1_l2(l1=0.001, l2=0.001)"
   ]
  },
  {
   "cell_type": "markdown",
   "metadata": {},
   "source": [
    "## Adding dropout\n",
    "Dropout is one of the most effective and most commonly used regularization techniques for neural networks. Dropout, applied to a layer, consists of randomly \"dropping out\" (i.e. setting to zero) a number of output features of the layer during training. Let's say a given layer would normally have returned a vector [0.2, 0.5, 1.3, 0.8, 1.1] for a given input sample during training; after applying dropout, this vector will have a few zero entries distributed at random, e.g. [0, 0.5, 1.3, 0, 1.1]. The \"dropout rate\" is the fraction of the features that are being zeroed-out; it is usually set between 0.2 and 0.5. At test time, no units are dropped out, and instead the layer's output values are scaled down by a factor equal to the dropout rate, so as to balance for the fact that more units are active than at training time.\n",
    "\n",
    "Consider a Numpy matrix containing the output of a layer, layer_output, of shape (batch_size, features). At training time, we would be zero-ing out at random a fraction of the values in the matrix.\n",
    "\n",
    "(NOTE: do not run the 3 above cells, it is just an example.)"
   ]
  },
  {
   "cell_type": "code",
   "execution_count": 24,
   "metadata": {},
   "outputs": [
    {
     "name": "stdout",
     "output_type": "stream",
     "text": [
      "[512  10]\n"
     ]
    }
   ],
   "source": [
    "# At training time: we drop out 50% of the units in the output\n",
    "#layer_output *= np.randint(0, high=2, size=layer_output.shape)\n",
    "batch_size = 512\n",
    "features = 10\n",
    "layer_output = np.array([batch_size, features])\n",
    "print(layer_output)\n",
    "layer_output = np.random.randint(0, high=2, size=layer_output.shape)"
   ]
  },
  {
   "cell_type": "markdown",
   "metadata": {},
   "source": [
    "At test time, we would be scaling the output down by the dropout rate. Here we scale by 0.5 (because we were previous dropping half the units):"
   ]
  },
  {
   "cell_type": "code",
   "execution_count": 25,
   "metadata": {},
   "outputs": [],
   "source": [
    "# At test time:\n",
    "layer_output = layer_output*0.5"
   ]
  },
  {
   "cell_type": "markdown",
   "metadata": {},
   "source": [
    "Note that this process can be implemented by doing both operations at training time and leaving the output unchanged at test time, which is often the way it is implemented in practice:"
   ]
  },
  {
   "cell_type": "code",
   "execution_count": 26,
   "metadata": {},
   "outputs": [],
   "source": [
    "# At training time:\n",
    "layer_output *= np.random.randint(0, high=2, size=layer_output.shape)\n",
    "# Note that we are scaling *up* rather scaling *down* in this case\n",
    "layer_output /= 0.5"
   ]
  },
  {
   "cell_type": "markdown",
   "metadata": {},
   "source": [
    "The core idea is that introducing noise in the output values of a layer can break up happenstance patterns that are not significant (what Hinton refers to as \"conspiracies\"), which the network would start memorizing if no noise was present."
   ]
  },
  {
   "cell_type": "markdown",
   "metadata": {},
   "source": [
    "Let's add two Dropout layers in our IMDB network to see how well they do at reducing overfitting:"
   ]
  },
  {
   "cell_type": "markdown",
   "metadata": {},
   "source": [
    "** Add Dropout to the original network. Where should you add the `Dropout` layers? Check Keras documentation and try to understand. Try out different value for the dropout rate.**"
   ]
  },
  {
   "cell_type": "code",
   "execution_count": 27,
   "metadata": {},
   "outputs": [],
   "source": [
    "dpt_model = models.Sequential()\n",
    "dpt_model.add(layers.Dense(16, activation='relu', input_shape=(10000,)))\n",
    "dpt_model.add(layers.Dropout(0.5))\n",
    "dpt_model.add(layers.Dense(16, activation='relu'))\n",
    "dpt_model.add(layers.Dropout(0.5))\n",
    "dpt_model.add(layers.Dense(1, activation='sigmoid'))"
   ]
  },
  {
   "cell_type": "markdown",
   "metadata": {},
   "source": [
    "** Compile the model.**"
   ]
  },
  {
   "cell_type": "code",
   "execution_count": 28,
   "metadata": {},
   "outputs": [],
   "source": [
    "dpt_model.compile(optimizer='rmsprop',\n",
    "                  loss='binary_crossentropy',\n",
    "                  metrics=['acc'])"
   ]
  },
  {
   "cell_type": "markdown",
   "metadata": {},
   "source": [
    "** Fit the model. **"
   ]
  },
  {
   "cell_type": "code",
   "execution_count": 29,
   "metadata": {},
   "outputs": [
    {
     "name": "stdout",
     "output_type": "stream",
     "text": [
      "Epoch 1/20\n",
      "49/49 [==============================] - 3s 44ms/step - loss: 0.6326 - acc: 0.6218 - val_loss: 0.4238 - val_acc: 0.8634\n",
      "Epoch 2/20\n",
      "49/49 [==============================] - 1s 14ms/step - loss: 0.4474 - acc: 0.8125 - val_loss: 0.3200 - val_acc: 0.8848\n",
      "Epoch 3/20\n",
      "49/49 [==============================] - 1s 15ms/step - loss: 0.3502 - acc: 0.8686 - val_loss: 0.2835 - val_acc: 0.8882\n",
      "Epoch 4/20\n",
      "49/49 [==============================] - 1s 15ms/step - loss: 0.3006 - acc: 0.8906 - val_loss: 0.2747 - val_acc: 0.8893\n",
      "Epoch 5/20\n",
      "49/49 [==============================] - 1s 14ms/step - loss: 0.2566 - acc: 0.9086 - val_loss: 0.2780 - val_acc: 0.8886\n",
      "Epoch 6/20\n",
      "49/49 [==============================] - 1s 15ms/step - loss: 0.2212 - acc: 0.9222 - val_loss: 0.2949 - val_acc: 0.8865\n",
      "Epoch 7/20\n",
      "49/49 [==============================] - 1s 14ms/step - loss: 0.2026 - acc: 0.9311 - val_loss: 0.3010 - val_acc: 0.8876\n",
      "Epoch 8/20\n",
      "49/49 [==============================] - 1s 14ms/step - loss: 0.1838 - acc: 0.9367 - val_loss: 0.3308 - val_acc: 0.8827\n",
      "Epoch 9/20\n",
      "49/49 [==============================] - 1s 14ms/step - loss: 0.1695 - acc: 0.9411 - val_loss: 0.3481 - val_acc: 0.8795\n",
      "Epoch 10/20\n",
      "49/49 [==============================] - 1s 14ms/step - loss: 0.1657 - acc: 0.9439 - val_loss: 0.3762 - val_acc: 0.8787\n",
      "Epoch 11/20\n",
      "49/49 [==============================] - 1s 14ms/step - loss: 0.1546 - acc: 0.9474 - val_loss: 0.3937 - val_acc: 0.8804\n",
      "Epoch 12/20\n",
      "49/49 [==============================] - 1s 14ms/step - loss: 0.1427 - acc: 0.9513 - val_loss: 0.4108 - val_acc: 0.8776\n",
      "Epoch 13/20\n",
      "49/49 [==============================] - 1s 16ms/step - loss: 0.1327 - acc: 0.9523 - val_loss: 0.4379 - val_acc: 0.8790\n",
      "Epoch 14/20\n",
      "49/49 [==============================] - 1s 15ms/step - loss: 0.1239 - acc: 0.9543 - val_loss: 0.4586 - val_acc: 0.8765\n",
      "Epoch 15/20\n",
      "49/49 [==============================] - 1s 14ms/step - loss: 0.1249 - acc: 0.9553 - val_loss: 0.4732 - val_acc: 0.8770\n",
      "Epoch 16/20\n",
      "49/49 [==============================] - 1s 14ms/step - loss: 0.1198 - acc: 0.9565 - val_loss: 0.5043 - val_acc: 0.8762\n",
      "Epoch 17/20\n",
      "49/49 [==============================] - 1s 14ms/step - loss: 0.1162 - acc: 0.9546 - val_loss: 0.5131 - val_acc: 0.8668\n",
      "Epoch 18/20\n",
      "49/49 [==============================] - 1s 14ms/step - loss: 0.1172 - acc: 0.9564 - val_loss: 0.5222 - val_acc: 0.8722\n",
      "Epoch 19/20\n",
      "49/49 [==============================] - 1s 16ms/step - loss: 0.1150 - acc: 0.9589 - val_loss: 0.5508 - val_acc: 0.8684\n",
      "Epoch 20/20\n",
      "49/49 [==============================] - 1s 17ms/step - loss: 0.1126 - acc: 0.9576 - val_loss: 0.5733 - val_acc: 0.8692\n"
     ]
    }
   ],
   "source": [
    "dpt_model_hist = dpt_model.fit(x_train, y_train,\n",
    "                               epochs=20,\n",
    "                               batch_size=512,\n",
    "                               validation_data=(x_test, y_test))"
   ]
  },
  {
   "cell_type": "markdown",
   "metadata": {},
   "source": [
    "** Fill in the #TO DOs to plot the results.**"
   ]
  },
  {
   "cell_type": "code",
   "execution_count": 30,
   "metadata": {},
   "outputs": [
    {
     "data": {
      "image/png": "[encoded data removed]",
      "text/plain": [
       "<Figure size 432x288 with 1 Axes>"
      ]
     },
     "metadata": {
      "needs_background": "light"
     },
     "output_type": "display_data"
    }
   ],
   "source": [
    "dpt_model_val_loss = dpt_model_hist.history['val_loss'] #TO DO: take from the history dictionary of the model with dropout the validation loss\n",
    "\n",
    "plt.plot(epochs, original_val_loss, 'b+', label='Original model') #TO DO: use the validation loss of the original model\n",
    "plt.plot(epochs, dpt_model_val_loss, 'bo', label='Dropout-regularized model') #TO DO: use the validation loss of the model with dropout\n",
    "plt.xlabel('Epochs')\n",
    "plt.ylabel('Validation loss')\n",
    "plt.legend()\n",
    "\n",
    "plt.show()"
   ]
  },
  {
   "cell_type": "markdown",
   "metadata": {},
   "source": [
    "** Considerations: were you able to improve? **"
   ]
  },
  {
   "cell_type": "code",
   "execution_count": null,
   "metadata": {},
   "outputs": [],
   "source": []
  }
 ],
 "metadata": {
  "kernelspec": {
   "display_name": "Python 3",
   "language": "python",
   "name": "python3"
  },
  "language_info": {
   "codemirror_mode": {
    "name": "ipython",
    "version": 3
   },
   "file_extension": ".py",
   "mimetype": "text/x-python",
   "name": "python",
   "nbconvert_exporter": "python",
   "pygments_lexer": "ipython3",
   "version": "3.8.5"
  }
 },
 "nbformat": 4,
 "nbformat_minor": 2
}
